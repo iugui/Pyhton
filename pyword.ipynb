{
 "cells": [
  {
   "cell_type": "markdown",
   "id": "be9471b3",
   "metadata": {},
   "source": [
    "## Função para editar o documento word"
   ]
  },
  {
   "cell_type": "code",
   "execution_count": 43,
   "id": "cea48f56",
   "metadata": {},
   "outputs": [],
   "source": [
    "def altera_docs(objeto : Document, margem_cima : float = 2.5, margem_baixo : float = 2.5, margem_esq : float = 3, margem_dir : float = 3,\n",
    "              num_col : int = 1):\n",
    "    \"\"\"\n",
    "    Essa função altera as formatações do documento Word.\n",
    "    Componentes alterados:\n",
    "    - Margem\n",
    "    - Número de colunas\n",
    "    \n",
    "    Parâmetros:\n",
    "    objeto(Document): nome do objeto instanciado do tipo Document\n",
    "    margem_cima(float): Define o valor da margem superior do documento. Padrão: 2.5\n",
    "    margem_baixo(float): Define o valor da margem inferior do documento. Padrão: 2.5\n",
    "    margem_esq(float): Define o valor da margem esquerda do documento. Padrão: 3\n",
    "    margem_dir(float): Define o valor da margem direita do documento. Padrão: 3\n",
    "    num_col(int): Define o número de colunas do documento\n",
    "    \"\"\"\n",
    "    # Mudando a margem do documento\n",
    "    paginas = objeto.sections\n",
    "    for pagina in paginas:\n",
    "        pagina.top_margin = Cm(margem_cima)\n",
    "        pagina.bottom_margin = Cm(margem_baixo)\n",
    "        pagina.left_margin = Cm(margem_esq)\n",
    "        pagina.right_margin = Cm(margem_dir)\n",
    "    \n",
    "    # Mudando a quantidade de colunas\n",
    "    pagina = objeto.sections[0] # Primeira página\n",
    "    sectPr = pagina._sectPr\n",
    "    cols = sectPr.xpath('./w:cols')[0]\n",
    "    cols.set(qn('w:num'), str(num_col)) # O segundo argumento é a quantidade de colunas que deseja"
   ]
  },
  {
   "cell_type": "markdown",
   "id": "6e33bb3c",
   "metadata": {},
   "source": [
    "## Criando uma função para adicionar o conteúdo ao word"
   ]
  },
  {
   "cell_type": "code",
   "execution_count": 44,
   "id": "096c228d",
   "metadata": {},
   "outputs": [],
   "source": [
    "def write_docs(objeto : Document, conteudo: str, nome_fonte : str = 'Times New Roman', tamanho_fonte : int = 12, negrito : bool = False,\n",
    "             italico : bool = False, sublinhado : bool = False, cor = RGBColor(0,0,0), espaco_antes_paragrafo : float = 12,\n",
    "             espaco_depois_paragrafo : float = 0, espacamento_linha : float = 1, manter_junto: bool = True,\n",
    "             manter_com_proximo: bool = False, quebra_pagina_antes : bool = False, alinhamento : str = 'left',\n",
    "             estilo_fonte : list = [\"Estilo1\"]):\n",
    "    \"\"\"\n",
    "    Essa função escreve conteúdo em um documento word em uma formatação específica.\n",
    "    \n",
    "    Parâmetros:\n",
    "    param conteudo(string): contém o conteúdo que deseja escrever\n",
    "    param nome_fonte(string): contém a fonte que deseja usar. Padrão = Times New Roman\n",
    "    param tamanho_fonte(int): contém o tamanho da fonte que deseja usar. Padrão = 12\n",
    "    param negrito(bool): True para colocar em negrito e False para deixar normal. Padrão = False\n",
    "    param italico(bool): True para colocar em itálico e False para deixar normal. Padrão = False\n",
    "    param negrito(bool): True para colocar sublinhado e False para deixar normal. Padrão = False\n",
    "    param cor(RGBColor(val1,val2,val3)): Muda a cor da fonte. Padrão = preto\n",
    "    param espaco_antes_paragrafo(float): Define o espaçamento antes do parágrafo. Padrão = 12\n",
    "    param espaço_depois_paragrafo(float): Define o espaçamento depois do parágrafo. Padrão = 0\n",
    "    param espacamento_linha(float): Define o espaçamento entre linhas. Padrão = 1\n",
    "    param manter_junto(bool): Mantém ou não o agrupamento. Padrão = True\n",
    "    param manter_com_proximo(bool):\n",
    "    param quebra_pagina_antes(bool): Quebra de de página antes. Padrão = False \n",
    "    param alinhamento(string): Define o alinhamento do parágrafo. Padrão = left\n",
    "    param estilo_fonte(list): É o nome do estilo\n",
    "    \"\"\"\n",
    "    estilo_fonte[0] += '1'\n",
    "    paragrafo = objeto.add_paragraph(str(conteudo))\n",
    "    # Definindo o estilo do paragrafo\n",
    "    paragrafo.style = objeto.styles.add_style(str(estilo_fonte[0]), WD_STYLE_TYPE.PARAGRAPH)\n",
    "    font = paragrafo.style.font\n",
    "    # Escolhendo a fonte\n",
    "    font.name = nome_fonte\n",
    "    # Escolhendo o tamanho\n",
    "    font.size = Pt(tamanho_fonte)\n",
    "    # Colocando negrito ou não\n",
    "    font.bold = negrito\n",
    "    # Colocando itálico ou não\n",
    "    font.italic = italico\n",
    "    # Colocando sublinhado ou não\n",
    "    font.underline = sublinhado\n",
    "    # Mudando a cor\n",
    "    font.color.rgb = cor\n",
    "    # Mudando o espaçamento\n",
    "    paragrafo_formato = paragrafo.paragraph_format\n",
    "    # Mudando o espaçamento antes\n",
    "    paragrafo_formato.space_before = Pt(espaco_antes_paragrafo)\n",
    "    # Mudando o espaçamento depois\n",
    "    paragrafo_formato.space_after = Pt(espaco_depois_paragrafo)\n",
    "    # Mudando o espaçamento entre linhas\n",
    "    paragrafo_formato.line_spacing = espacamento_linha\n",
    "    # Mudando o agrupamento\n",
    "    paragrafo_formato.keep_together = manter_junto\n",
    "    paragrafo_formato.keep_with_next = manter_com_proximo\n",
    "    paragrafo_formato.page_break_before = quebra_pagina_antes\n",
    "    if alinhamento.lower() == 'left':\n",
    "        paragrafo.alignment = WD_PARAGRAPH_ALIGNMENT.LEFT\n",
    "    elif alinhamento.lower() == 'center':\n",
    "        paragrafo.alignment = WD_PARAGRAPH_ALIGNMENT.CENTER\n",
    "    elif alinhamento.lower() == 'right':\n",
    "        paragrafo.alignment = WD_PARAGRAPH_ALIGNMENT.RIGHT\n",
    "    elif alinhamento.lower() == 'justify':\n",
    "        paragrafo.alignment = WD_PARAGRAPH_ALIGNMENT.JUSTIFY\n",
    "    else:\n",
    "        paragrafo.alignment = WD_PARAGRAPH_ALIGNMENT.LEFT\n",
    "    "
   ]
  },
  {
   "cell_type": "markdown",
   "id": "c4603487",
   "metadata": {},
   "source": [
    "## Adicionando figuras ao documento"
   ]
  },
  {
   "cell_type": "code",
   "execution_count": 46,
   "id": "a6c82132",
   "metadata": {},
   "outputs": [],
   "source": [
    "# documento.add_picture('caminho', width = docx.shared.Inches(2.5), height = docx.shared.Inches(5) )"
   ]
  },
  {
   "cell_type": "code",
   "execution_count": null,
   "id": "c909521a",
   "metadata": {},
   "outputs": [],
   "source": []
  },
  {
   "cell_type": "code",
   "execution_count": null,
   "id": "b6acf1a9",
   "metadata": {},
   "outputs": [],
   "source": []
  },
  {
   "cell_type": "code",
   "execution_count": null,
   "id": "0b2c52bd",
   "metadata": {},
   "outputs": [],
   "source": []
  },
  {
   "cell_type": "code",
   "execution_count": null,
   "id": "bb9fb2ca",
   "metadata": {},
   "outputs": [],
   "source": []
  },
  {
   "cell_type": "code",
   "execution_count": null,
   "id": "0b72aac6",
   "metadata": {},
   "outputs": [],
   "source": []
  }
 ],
 "metadata": {
  "kernelspec": {
   "display_name": "Python 3",
   "language": "python",
   "name": "python3"
  },
  "language_info": {
   "codemirror_mode": {
    "name": "ipython",
    "version": 3
   },
   "file_extension": ".py",
   "mimetype": "text/x-python",
   "name": "python",
   "nbconvert_exporter": "python",
   "pygments_lexer": "ipython3",
   "version": "3.8.8"
  }
 },
 "nbformat": 4,
 "nbformat_minor": 5
}
